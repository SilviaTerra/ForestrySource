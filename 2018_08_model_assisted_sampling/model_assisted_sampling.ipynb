{
 "cells": [
  {
   "cell_type": "markdown",
   "metadata": {},
   "source": [
    "# Model-Assisted (MA) Sampling"
   ]
  },
  {
   "cell_type": "code",
   "execution_count": 8,
   "metadata": {},
   "outputs": [],
   "source": [
    "PLOTS_SHP = 'data/plots.shp'\n",
    "NDVI_TIF = 'data/ndvi.tif'"
   ]
  },
  {
   "cell_type": "code",
   "execution_count": 64,
   "metadata": {},
   "outputs": [
    {
     "data": {
      "text/html": [
       "<script>requirejs.config({paths: { 'plotly': ['https://cdn.plot.ly/plotly-latest.min']},});if(!window.Plotly) {{require(['plotly'],function(plotly) {window.Plotly=plotly;});}}</script>"
      ],
      "text/vnd.plotly.v1+html": [
       "<script>requirejs.config({paths: { 'plotly': ['https://cdn.plot.ly/plotly-latest.min']},});if(!window.Plotly) {{require(['plotly'],function(plotly) {window.Plotly=plotly;});}}</script>"
      ]
     },
     "metadata": {},
     "output_type": "display_data"
    }
   ],
   "source": [
    "# set up offline graphing for plotly\n",
    "from plotly.offline import init_notebook_mode\n",
    "init_notebook_mode(connected=True)\n",
    "\n",
    "from plotly.offline import iplot\n",
    "import plotly.graph_objs as go"
   ]
  },
  {
   "cell_type": "code",
   "execution_count": 62,
   "metadata": {},
   "outputs": [],
   "source": [
    "import numpy as np\n",
    "import scipy.stats as st\n",
    "\n",
    "import fiona\n",
    "import rasterio\n",
    "import pandas as pd\n",
    "from shapely.geometry import shape"
   ]
  },
  {
   "cell_type": "markdown",
   "metadata": {},
   "source": [
    "#### First, a traditional cruise workup"
   ]
  },
  {
   "cell_type": "code",
   "execution_count": 35,
   "metadata": {},
   "outputs": [
    {
     "name": "stdout",
     "output_type": "stream",
     "text": [
      "9 plots\n"
     ]
    }
   ],
   "source": [
    "# load plot data (locations and BA)\n",
    "plots = []\n",
    "with fiona.open(PLOTS_SHP) as src:\n",
    "    for feat in src:\n",
    "        geom = shape(feat['geometry'])\n",
    "        plots.append({\n",
    "            'id': feat['properties']['id'],\n",
    "            'basal_area': feat['properties']['basal_area'],\n",
    "            'x': geom.x,\n",
    "            'y': geom.y\n",
    "        })\n",
    "\n",
    "plots_df = pd.DataFrame(plots)\n",
    "print len(plots_df), 'plots'"
   ]
  },
  {
   "cell_type": "code",
   "execution_count": 36,
   "metadata": {},
   "outputs": [
    {
     "data": {
      "text/html": [
       "<div>\n",
       "<style scoped>\n",
       "    .dataframe tbody tr th:only-of-type {\n",
       "        vertical-align: middle;\n",
       "    }\n",
       "\n",
       "    .dataframe tbody tr th {\n",
       "        vertical-align: top;\n",
       "    }\n",
       "\n",
       "    .dataframe thead th {\n",
       "        text-align: right;\n",
       "    }\n",
       "</style>\n",
       "<table border=\"1\" class=\"dataframe\">\n",
       "  <thead>\n",
       "    <tr style=\"text-align: right;\">\n",
       "      <th></th>\n",
       "      <th>id</th>\n",
       "      <th>basal_area</th>\n",
       "    </tr>\n",
       "  </thead>\n",
       "  <tbody>\n",
       "    <tr>\n",
       "      <th>0</th>\n",
       "      <td>1</td>\n",
       "      <td>150</td>\n",
       "    </tr>\n",
       "    <tr>\n",
       "      <th>1</th>\n",
       "      <td>2</td>\n",
       "      <td>125</td>\n",
       "    </tr>\n",
       "    <tr>\n",
       "      <th>2</th>\n",
       "      <td>3</td>\n",
       "      <td>200</td>\n",
       "    </tr>\n",
       "    <tr>\n",
       "      <th>3</th>\n",
       "      <td>4</td>\n",
       "      <td>145</td>\n",
       "    </tr>\n",
       "    <tr>\n",
       "      <th>4</th>\n",
       "      <td>5</td>\n",
       "      <td>167</td>\n",
       "    </tr>\n",
       "    <tr>\n",
       "      <th>5</th>\n",
       "      <td>6</td>\n",
       "      <td>114</td>\n",
       "    </tr>\n",
       "    <tr>\n",
       "      <th>6</th>\n",
       "      <td>7</td>\n",
       "      <td>0</td>\n",
       "    </tr>\n",
       "    <tr>\n",
       "      <th>7</th>\n",
       "      <td>8</td>\n",
       "      <td>155</td>\n",
       "    </tr>\n",
       "    <tr>\n",
       "      <th>8</th>\n",
       "      <td>9</td>\n",
       "      <td>88</td>\n",
       "    </tr>\n",
       "  </tbody>\n",
       "</table>\n",
       "</div>"
      ],
      "text/plain": [
       "   id  basal_area\n",
       "0   1         150\n",
       "1   2         125\n",
       "2   3         200\n",
       "3   4         145\n",
       "4   5         167\n",
       "5   6         114\n",
       "6   7           0\n",
       "7   8         155\n",
       "8   9          88"
      ]
     },
     "execution_count": 36,
     "metadata": {},
     "output_type": "execute_result"
    }
   ],
   "source": [
    "plots_df[['id', 'basal_area']]"
   ]
  },
  {
   "cell_type": "code",
   "execution_count": 25,
   "metadata": {},
   "outputs": [
    {
     "name": "stdout",
     "output_type": "stream",
     "text": [
      "Traditional Statistics\n",
      "Mean: 127.11\n",
      "Standard Error: 19.14\n",
      "90% Confidence Interval: 91.51 - 162.71\n"
     ]
    }
   ],
   "source": [
    "# using traditional statistics, \n",
    "# calculate 90% confidence interval for mean BA\n",
    "\n",
    "bas = [p['basal_area'] for p in plots]\n",
    "trad_mean = np.mean(bas)\n",
    "trad_std_err = st.sem(bas)\n",
    "trad_conf_interval = st.t.interval(0.90, len(bas)-1, loc=trad_mean, scale=trad_std_err)\n",
    "\n",
    "print 'Traditional Statistics'\n",
    "print 'Mean: %.2f' % trad_mean\n",
    "print 'Standard Error: %.2f' % trad_std_err\n",
    "print '90%% Confidence Interval: %.2f - %.2f' % trad_conf_interval"
   ]
  },
  {
   "cell_type": "markdown",
   "metadata": {},
   "source": [
    "#### Now, time to use MA sampling theory\n",
    "We will use a NDVI layer computed from a Landsat image\n",
    "as our auxiliary data"
   ]
  },
  {
   "cell_type": "code",
   "execution_count": 59,
   "metadata": {},
   "outputs": [],
   "source": [
    "# sample NDVI raster by plot locations\n",
    "\n",
    "with rasterio.open(NDVI_TIF) as src:\n",
    "    ndvi = [\n",
    "        x[0] for x in  # have to parse out of returned array\n",
    "        list(src.sample(plots_df[['x', 'y']].values))\n",
    "    ]\n",
    "\n",
    "plots_df['ndvi'] = ndvi"
   ]
  },
  {
   "cell_type": "code",
   "execution_count": 60,
   "metadata": {},
   "outputs": [
    {
     "data": {
      "text/html": [
       "<div>\n",
       "<style scoped>\n",
       "    .dataframe tbody tr th:only-of-type {\n",
       "        vertical-align: middle;\n",
       "    }\n",
       "\n",
       "    .dataframe tbody tr th {\n",
       "        vertical-align: top;\n",
       "    }\n",
       "\n",
       "    .dataframe thead th {\n",
       "        text-align: right;\n",
       "    }\n",
       "</style>\n",
       "<table border=\"1\" class=\"dataframe\">\n",
       "  <thead>\n",
       "    <tr style=\"text-align: right;\">\n",
       "      <th></th>\n",
       "      <th>id</th>\n",
       "      <th>basal_area</th>\n",
       "      <th>ndvi</th>\n",
       "    </tr>\n",
       "  </thead>\n",
       "  <tbody>\n",
       "    <tr>\n",
       "      <th>0</th>\n",
       "      <td>1</td>\n",
       "      <td>150</td>\n",
       "      <td>0.105824</td>\n",
       "    </tr>\n",
       "    <tr>\n",
       "      <th>1</th>\n",
       "      <td>2</td>\n",
       "      <td>125</td>\n",
       "      <td>0.110767</td>\n",
       "    </tr>\n",
       "    <tr>\n",
       "      <th>2</th>\n",
       "      <td>3</td>\n",
       "      <td>200</td>\n",
       "      <td>0.057252</td>\n",
       "    </tr>\n",
       "    <tr>\n",
       "      <th>3</th>\n",
       "      <td>4</td>\n",
       "      <td>145</td>\n",
       "      <td>0.114119</td>\n",
       "    </tr>\n",
       "    <tr>\n",
       "      <th>4</th>\n",
       "      <td>5</td>\n",
       "      <td>167</td>\n",
       "      <td>0.105423</td>\n",
       "    </tr>\n",
       "    <tr>\n",
       "      <th>5</th>\n",
       "      <td>6</td>\n",
       "      <td>114</td>\n",
       "      <td>0.107453</td>\n",
       "    </tr>\n",
       "    <tr>\n",
       "      <th>6</th>\n",
       "      <td>7</td>\n",
       "      <td>0</td>\n",
       "      <td>0.235615</td>\n",
       "    </tr>\n",
       "    <tr>\n",
       "      <th>7</th>\n",
       "      <td>8</td>\n",
       "      <td>155</td>\n",
       "      <td>0.089554</td>\n",
       "    </tr>\n",
       "    <tr>\n",
       "      <th>8</th>\n",
       "      <td>9</td>\n",
       "      <td>88</td>\n",
       "      <td>0.119050</td>\n",
       "    </tr>\n",
       "  </tbody>\n",
       "</table>\n",
       "</div>"
      ],
      "text/plain": [
       "   id  basal_area      ndvi\n",
       "0   1         150  0.105824\n",
       "1   2         125  0.110767\n",
       "2   3         200  0.057252\n",
       "3   4         145  0.114119\n",
       "4   5         167  0.105423\n",
       "5   6         114  0.107453\n",
       "6   7           0  0.235615\n",
       "7   8         155  0.089554\n",
       "8   9          88  0.119050"
      ]
     },
     "execution_count": 60,
     "metadata": {},
     "output_type": "execute_result"
    }
   ],
   "source": [
    "# NDVI vs. BA table\n",
    "plots_df[['id', 'basal_area', 'ndvi']]"
   ]
  },
  {
   "cell_type": "code",
   "execution_count": 108,
   "metadata": {},
   "outputs": [],
   "source": [
    "# define a model to predict BA from NDVI\n",
    "\n",
    "slope, intercept, r_val, p_val, std_err = st.linregress(plots_df['ndvi'], plots_df['basal_area'])\n",
    "\n",
    "def ndvi_to_ba(ndvi):\n",
    "    # NOTE: added the 1.1 here so that residuals wouldn't sum to zero\n",
    "    return (slope * 1.1 * ndvi) + intercept"
   ]
  },
  {
   "cell_type": "code",
   "execution_count": 109,
   "metadata": {},
   "outputs": [
    {
     "data": {
      "application/vnd.plotly.v1+json": {
       "data": [
        {
         "name": "Model",
         "type": "scatter",
         "uid": "b2f8ce35-83fa-11e8-b818-600308935e22",
         "x": [
          0,
          0.004808461483643979,
          0.009616922967287958,
          0.014425384450931937,
          0.019233845934575916,
          0.024042307418219895,
          0.028850768901863874,
          0.03365923038550785,
          0.03846769186915183,
          0.04327615335279581,
          0.04808461483643979,
          0.05289307632008377,
          0.05770153780372775,
          0.06250999928737172,
          0.0673184607710157,
          0.07212692225465969,
          0.07693538373830366,
          0.08174384522194764,
          0.08655230670559162,
          0.09136076818923561,
          0.09616922967287958,
          0.10097769115652355,
          0.10578615264016754,
          0.11059461412381152,
          0.1154030756074555,
          0.12021153709109947,
          0.12501999857474344,
          0.12982846005838744,
          0.1346369215420314,
          0.13944538302567538,
          0.14425384450931938,
          0.14906230599296336,
          0.15387076747660733,
          0.1586792289602513,
          0.16348769044389527,
          0.16829615192753927,
          0.17310461341118324,
          0.17791307489482722,
          0.18272153637847122,
          0.1875299978621152,
          0.19233845934575916,
          0.19714692082940313,
          0.2019553823130471,
          0.2067638437966911,
          0.21157230528033508,
          0.21638076676397905,
          0.22118922824762305,
          0.22599768973126702,
          0.230806151214911,
          0.235614612698555
         ],
         "y": [
          256.34213764163474,
          250.4554885746064,
          244.56883950757802,
          238.68219044054968,
          232.79554137352133,
          226.90889230649296,
          221.02224323946461,
          215.13559417243624,
          209.2489451054079,
          203.36229603837955,
          197.47564697135118,
          191.58899790432284,
          185.7023488372945,
          179.81569977026615,
          173.92905070323778,
          168.04240163620943,
          162.15575256918106,
          156.26910350215275,
          150.38245443512437,
          144.495805368096,
          138.60915630106766,
          132.7225072340393,
          126.83585816701094,
          120.9492090999826,
          115.06256003295425,
          109.17591096592591,
          103.28926189889756,
          97.40261283186916,
          91.51596376484082,
          85.62931469781248,
          79.7426656307841,
          73.85601656375576,
          67.96936749672741,
          62.08271842969907,
          56.19606936267073,
          50.309420295642354,
          44.42277122861401,
          38.536122161585666,
          32.649473094557266,
          26.76282402752892,
          20.876174960500578,
          14.989525893472234,
          9.10287682644389,
          3.216227759415517,
          -2.6704213076128553,
          -8.557070374641171,
          -14.443719441669543,
          -20.330368508697916,
          -26.21701757572623,
          -32.103666642754604
         ]
        },
        {
         "marker": {
          "size": 10
         },
         "mode": "markers",
         "name": "Raw Data",
         "type": "scatter",
         "uid": "b2f8d40a-83fa-11e8-98aa-600308935e22",
         "x": [
          0.10582394897937775,
          0.11076663434505463,
          0.057252079248428345,
          0.11411906778812408,
          0.10542328655719757,
          0.10745321959257126,
          0.235614612698555,
          0.08955370634794235,
          0.11905045807361603
         ],
         "y": [
          150,
          125,
          200,
          145,
          167,
          114,
          0,
          155,
          88
         ]
        }
       ],
       "layout": {
        "xaxis": {
         "title": "NDVI"
        },
        "yaxis": {
         "title": "Basal Area"
        }
       }
      },
      "text/html": [
       "<div id=\"c3c40110-7272-41ec-beab-7f610daa5901\" style=\"height: 525px; width: 100%;\" class=\"plotly-graph-div\"></div><script type=\"text/javascript\">require([\"plotly\"], function(Plotly) { window.PLOTLYENV=window.PLOTLYENV || {};window.PLOTLYENV.BASE_URL=\"https://plot.ly\";Plotly.newPlot(\"c3c40110-7272-41ec-beab-7f610daa5901\", [{\"y\": [256.34213764163474, 250.4554885746064, 244.56883950757802, 238.68219044054968, 232.79554137352133, 226.90889230649296, 221.02224323946461, 215.13559417243624, 209.2489451054079, 203.36229603837955, 197.47564697135118, 191.58899790432284, 185.7023488372945, 179.81569977026615, 173.92905070323778, 168.04240163620943, 162.15575256918106, 156.26910350215275, 150.38245443512437, 144.495805368096, 138.60915630106766, 132.7225072340393, 126.83585816701094, 120.9492090999826, 115.06256003295425, 109.17591096592591, 103.28926189889756, 97.40261283186916, 91.51596376484082, 85.62931469781248, 79.7426656307841, 73.85601656375576, 67.96936749672741, 62.08271842969907, 56.19606936267073, 50.309420295642354, 44.42277122861401, 38.536122161585666, 32.649473094557266, 26.76282402752892, 20.876174960500578, 14.989525893472234, 9.10287682644389, 3.216227759415517, -2.6704213076128553, -8.557070374641171, -14.443719441669543, -20.330368508697916, -26.21701757572623, -32.103666642754604], \"x\": [0.0, 0.004808461483643979, 0.009616922967287958, 0.014425384450931937, 0.019233845934575916, 0.024042307418219895, 0.028850768901863874, 0.03365923038550785, 0.03846769186915183, 0.04327615335279581, 0.04808461483643979, 0.05289307632008377, 0.05770153780372775, 0.06250999928737172, 0.0673184607710157, 0.07212692225465969, 0.07693538373830366, 0.08174384522194764, 0.08655230670559162, 0.09136076818923561, 0.09616922967287958, 0.10097769115652355, 0.10578615264016754, 0.11059461412381152, 0.1154030756074555, 0.12021153709109947, 0.12501999857474344, 0.12982846005838744, 0.1346369215420314, 0.13944538302567538, 0.14425384450931938, 0.14906230599296336, 0.15387076747660733, 0.1586792289602513, 0.16348769044389527, 0.16829615192753927, 0.17310461341118324, 0.17791307489482722, 0.18272153637847122, 0.1875299978621152, 0.19233845934575916, 0.19714692082940313, 0.2019553823130471, 0.2067638437966911, 0.21157230528033508, 0.21638076676397905, 0.22118922824762305, 0.22599768973126702, 0.230806151214911, 0.235614612698555], \"type\": \"scatter\", \"name\": \"Model\", \"uid\": \"b304a742-83fa-11e8-8745-600308935e22\"}, {\"name\": \"Raw Data\", \"marker\": {\"size\": 10}, \"mode\": \"markers\", \"y\": [150.0, 125.0, 200.0, 145.0, 167.0, 114.0, 0.0, 155.0, 88.0], \"x\": [0.10582394897937775, 0.11076663434505463, 0.057252079248428345, 0.11411906778812408, 0.10542328655719757, 0.10745321959257126, 0.235614612698555, 0.08955370634794235, 0.11905045807361603], \"type\": \"scatter\", \"uid\": \"b304aaa6-83fa-11e8-ad1a-600308935e22\"}], {\"xaxis\": {\"title\": \"NDVI\"}, \"yaxis\": {\"title\": \"Basal Area\"}}, {\"linkText\": \"Export to plot.ly\", \"showLink\": true})});</script>"
      ],
      "text/vnd.plotly.v1+html": [
       "<div id=\"c3c40110-7272-41ec-beab-7f610daa5901\" style=\"height: 525px; width: 100%;\" class=\"plotly-graph-div\"></div><script type=\"text/javascript\">require([\"plotly\"], function(Plotly) { window.PLOTLYENV=window.PLOTLYENV || {};window.PLOTLYENV.BASE_URL=\"https://plot.ly\";Plotly.newPlot(\"c3c40110-7272-41ec-beab-7f610daa5901\", [{\"y\": [256.34213764163474, 250.4554885746064, 244.56883950757802, 238.68219044054968, 232.79554137352133, 226.90889230649296, 221.02224323946461, 215.13559417243624, 209.2489451054079, 203.36229603837955, 197.47564697135118, 191.58899790432284, 185.7023488372945, 179.81569977026615, 173.92905070323778, 168.04240163620943, 162.15575256918106, 156.26910350215275, 150.38245443512437, 144.495805368096, 138.60915630106766, 132.7225072340393, 126.83585816701094, 120.9492090999826, 115.06256003295425, 109.17591096592591, 103.28926189889756, 97.40261283186916, 91.51596376484082, 85.62931469781248, 79.7426656307841, 73.85601656375576, 67.96936749672741, 62.08271842969907, 56.19606936267073, 50.309420295642354, 44.42277122861401, 38.536122161585666, 32.649473094557266, 26.76282402752892, 20.876174960500578, 14.989525893472234, 9.10287682644389, 3.216227759415517, -2.6704213076128553, -8.557070374641171, -14.443719441669543, -20.330368508697916, -26.21701757572623, -32.103666642754604], \"x\": [0.0, 0.004808461483643979, 0.009616922967287958, 0.014425384450931937, 0.019233845934575916, 0.024042307418219895, 0.028850768901863874, 0.03365923038550785, 0.03846769186915183, 0.04327615335279581, 0.04808461483643979, 0.05289307632008377, 0.05770153780372775, 0.06250999928737172, 0.0673184607710157, 0.07212692225465969, 0.07693538373830366, 0.08174384522194764, 0.08655230670559162, 0.09136076818923561, 0.09616922967287958, 0.10097769115652355, 0.10578615264016754, 0.11059461412381152, 0.1154030756074555, 0.12021153709109947, 0.12501999857474344, 0.12982846005838744, 0.1346369215420314, 0.13944538302567538, 0.14425384450931938, 0.14906230599296336, 0.15387076747660733, 0.1586792289602513, 0.16348769044389527, 0.16829615192753927, 0.17310461341118324, 0.17791307489482722, 0.18272153637847122, 0.1875299978621152, 0.19233845934575916, 0.19714692082940313, 0.2019553823130471, 0.2067638437966911, 0.21157230528033508, 0.21638076676397905, 0.22118922824762305, 0.22599768973126702, 0.230806151214911, 0.235614612698555], \"type\": \"scatter\", \"name\": \"Model\", \"uid\": \"b304a742-83fa-11e8-8745-600308935e22\"}, {\"name\": \"Raw Data\", \"marker\": {\"size\": 10}, \"mode\": \"markers\", \"y\": [150.0, 125.0, 200.0, 145.0, 167.0, 114.0, 0.0, 155.0, 88.0], \"x\": [0.10582394897937775, 0.11076663434505463, 0.057252079248428345, 0.11411906778812408, 0.10542328655719757, 0.10745321959257126, 0.235614612698555, 0.08955370634794235, 0.11905045807361603], \"type\": \"scatter\", \"uid\": \"b304aaa6-83fa-11e8-ad1a-600308935e22\"}], {\"xaxis\": {\"title\": \"NDVI\"}, \"yaxis\": {\"title\": \"Basal Area\"}}, {\"linkText\": \"Export to plot.ly\", \"showLink\": true})});</script>"
      ]
     },
     "metadata": {},
     "output_type": "display_data"
    }
   ],
   "source": [
    "# graph NDVI vs. BA\n",
    "raw_data = go.Scatter(\n",
    "    name='Raw Data',\n",
    "    x=plots_df['ndvi'],\n",
    "    y=plots_df['basal_area'],\n",
    "    mode='markers',\n",
    "    marker={'size': 10}\n",
    ")\n",
    "\n",
    "ticks = np.linspace(0, max(plots_df['ndvi']))\n",
    "model_trace = go.Scatter(\n",
    "    name='Model',\n",
    "    x=ticks,\n",
    "    y=map(ndvi_to_ba, ticks)\n",
    ")\n",
    "\n",
    "data = [model_trace, raw_data]\n",
    "\n",
    "layout = go.Layout(\n",
    "    xaxis={'title': 'NDVI'},\n",
    "    yaxis={'title': 'Basal Area'}\n",
    ")\n",
    "\n",
    "figure = {\n",
    "    'data': data,\n",
    "    'layout': layout\n",
    "}\n",
    "\n",
    "iplot(figure)"
   ]
  },
  {
   "cell_type": "code",
   "execution_count": 110,
   "metadata": {},
   "outputs": [
    {
     "data": {
      "text/html": [
       "<div>\n",
       "<style scoped>\n",
       "    .dataframe tbody tr th:only-of-type {\n",
       "        vertical-align: middle;\n",
       "    }\n",
       "\n",
       "    .dataframe tbody tr th {\n",
       "        vertical-align: top;\n",
       "    }\n",
       "\n",
       "    .dataframe thead th {\n",
       "        text-align: right;\n",
       "    }\n",
       "</style>\n",
       "<table border=\"1\" class=\"dataframe\">\n",
       "  <thead>\n",
       "    <tr style=\"text-align: right;\">\n",
       "      <th></th>\n",
       "      <th>id</th>\n",
       "      <th>basal_area</th>\n",
       "      <th>predicted_ba</th>\n",
       "      <th>residual</th>\n",
       "    </tr>\n",
       "  </thead>\n",
       "  <tbody>\n",
       "    <tr>\n",
       "      <th>0</th>\n",
       "      <td>1</td>\n",
       "      <td>150</td>\n",
       "      <td>126.789587</td>\n",
       "      <td>-23.210413</td>\n",
       "    </tr>\n",
       "    <tr>\n",
       "      <th>1</th>\n",
       "      <td>2</td>\n",
       "      <td>125</td>\n",
       "      <td>120.738617</td>\n",
       "      <td>-4.261383</td>\n",
       "    </tr>\n",
       "    <tr>\n",
       "      <th>2</th>\n",
       "      <td>3</td>\n",
       "      <td>200</td>\n",
       "      <td>186.252588</td>\n",
       "      <td>-13.747412</td>\n",
       "    </tr>\n",
       "    <tr>\n",
       "      <th>3</th>\n",
       "      <td>4</td>\n",
       "      <td>145</td>\n",
       "      <td>116.634477</td>\n",
       "      <td>-28.365523</td>\n",
       "    </tr>\n",
       "    <tr>\n",
       "      <th>4</th>\n",
       "      <td>5</td>\n",
       "      <td>167</td>\n",
       "      <td>127.280089</td>\n",
       "      <td>-39.719911</td>\n",
       "    </tr>\n",
       "    <tr>\n",
       "      <th>5</th>\n",
       "      <td>6</td>\n",
       "      <td>114</td>\n",
       "      <td>124.794990</td>\n",
       "      <td>10.794990</td>\n",
       "    </tr>\n",
       "    <tr>\n",
       "      <th>6</th>\n",
       "      <td>7</td>\n",
       "      <td>0</td>\n",
       "      <td>-32.103667</td>\n",
       "      <td>-32.103667</td>\n",
       "    </tr>\n",
       "    <tr>\n",
       "      <th>7</th>\n",
       "      <td>8</td>\n",
       "      <td>155</td>\n",
       "      <td>146.708060</td>\n",
       "      <td>-8.291940</td>\n",
       "    </tr>\n",
       "    <tr>\n",
       "      <th>8</th>\n",
       "      <td>9</td>\n",
       "      <td>88</td>\n",
       "      <td>110.597335</td>\n",
       "      <td>22.597335</td>\n",
       "    </tr>\n",
       "  </tbody>\n",
       "</table>\n",
       "</div>"
      ],
      "text/plain": [
       "   id  basal_area  predicted_ba   residual\n",
       "0   1         150    126.789587 -23.210413\n",
       "1   2         125    120.738617  -4.261383\n",
       "2   3         200    186.252588 -13.747412\n",
       "3   4         145    116.634477 -28.365523\n",
       "4   5         167    127.280089 -39.719911\n",
       "5   6         114    124.794990  10.794990\n",
       "6   7           0    -32.103667 -32.103667\n",
       "7   8         155    146.708060  -8.291940\n",
       "8   9          88    110.597335  22.597335"
      ]
     },
     "execution_count": 110,
     "metadata": {},
     "output_type": "execute_result"
    }
   ],
   "source": [
    "# calculate model residuals\n",
    "plots_df['predicted_ba'] = map(ndvi_to_ba, plots_df['ndvi'])\n",
    "plots_df['residual'] = plots_df['predicted_ba'] - plots_df['basal_area']\n",
    "\n",
    "plots_df[['id', 'basal_area', 'predicted_ba', 'residual']]"
   ]
  },
  {
   "cell_type": "code",
   "execution_count": 111,
   "metadata": {},
   "outputs": [],
   "source": [
    "# predict BA for each pixel\n",
    "with rasterio.open(NDVI_TIF) as src:\n",
    "    ndvi_vals = np.ndarray.flatten(src.read(1))\n",
    "    predicted_bas = map(ndvi_to_ba, ndvi_vals)"
   ]
  },
  {
   "cell_type": "code",
   "execution_count": 112,
   "metadata": {},
   "outputs": [
    {
     "name": "stdout",
     "output_type": "stream",
     "text": [
      "Raw mean pixel BA: 118.11\n",
      "Mean residual: -12.92\n",
      "Model-assisted mean: 131.03\n"
     ]
    }
   ],
   "source": [
    "# calculate model-assisted mean BA\n",
    "raw_mean_pix_ba = np.mean(predicted_bas)\n",
    "mean_residual = np.mean(plots_df['residual'])\n",
    "ma_mean = raw_mean_pix_ba - mean_residual\n",
    "\n",
    "print 'Raw mean pixel BA: %.2f' % raw_mean_pix_ba\n",
    "print 'Mean residual: %.2f' % mean_residual\n",
    "print 'Model-assisted mean: %.2f' % ma_mean"
   ]
  },
  {
   "cell_type": "code",
   "execution_count": 120,
   "metadata": {},
   "outputs": [
    {
     "name": "stdout",
     "output_type": "stream",
     "text": [
      "Model-assisted variance: 46.55\n"
     ]
    }
   ],
   "source": [
    "# calculate variance in our model-assisted estimate of the mean\n",
    "n = len(plots_df)\n",
    "ma_var = (1.0 / (n * (n-1))) * sum((plots_df['residual'] - mean_residual)**2)\n",
    "print 'Model-assisted variance: %.2f' % ma_var"
   ]
  },
  {
   "cell_type": "code",
   "execution_count": 122,
   "metadata": {},
   "outputs": [
    {
     "name": "stdout",
     "output_type": "stream",
     "text": [
      "Model-assisted standard error: 2.27\n"
     ]
    }
   ],
   "source": [
    "# calculate standard error of model-assisted estimate\n",
    "ma_std_err = np.sqrt(ma_var) / np.sqrt(n)\n",
    "print 'Model-assisted standard error: %.2f' % ma_std_err"
   ]
  },
  {
   "cell_type": "code",
   "execution_count": 124,
   "metadata": {},
   "outputs": [
    {
     "data": {
      "text/html": [
       "<div>\n",
       "<style scoped>\n",
       "    .dataframe tbody tr th:only-of-type {\n",
       "        vertical-align: middle;\n",
       "    }\n",
       "\n",
       "    .dataframe tbody tr th {\n",
       "        vertical-align: top;\n",
       "    }\n",
       "\n",
       "    .dataframe thead th {\n",
       "        text-align: right;\n",
       "    }\n",
       "</style>\n",
       "<table border=\"1\" class=\"dataframe\">\n",
       "  <thead>\n",
       "    <tr style=\"text-align: right;\">\n",
       "      <th></th>\n",
       "      <th>type</th>\n",
       "      <th>mean</th>\n",
       "      <th>std_err</th>\n",
       "    </tr>\n",
       "  </thead>\n",
       "  <tbody>\n",
       "    <tr>\n",
       "      <th>0</th>\n",
       "      <td>Traditional</td>\n",
       "      <td>127.111111</td>\n",
       "      <td>19.144512</td>\n",
       "    </tr>\n",
       "    <tr>\n",
       "      <th>1</th>\n",
       "      <td>Model-Assisted</td>\n",
       "      <td>131.029093</td>\n",
       "      <td>2.274273</td>\n",
       "    </tr>\n",
       "  </tbody>\n",
       "</table>\n",
       "</div>"
      ],
      "text/plain": [
       "             type        mean    std_err\n",
       "0     Traditional  127.111111  19.144512\n",
       "1  Model-Assisted  131.029093   2.274273"
      ]
     },
     "execution_count": 124,
     "metadata": {},
     "output_type": "execute_result"
    }
   ],
   "source": [
    "# compare to traditional cruise\n",
    "comparison_df = pd.DataFrame([\n",
    "    {'type': 'Traditional', 'mean': trad_mean, 'std_err': trad_std_err},\n",
    "    {'type': 'Model-Assisted', 'mean': ma_mean, 'std_err': ma_std_err},\n",
    "])\n",
    "\n",
    "comparison_df[['type', 'mean', 'std_err']]"
   ]
  }
 ],
 "metadata": {
  "kernelspec": {
   "display_name": "Python 2",
   "language": "python",
   "name": "python2"
  },
  "language_info": {
   "codemirror_mode": {
    "name": "ipython",
    "version": 2
   },
   "file_extension": ".py",
   "mimetype": "text/x-python",
   "name": "python",
   "nbconvert_exporter": "python",
   "pygments_lexer": "ipython2",
   "version": "2.7.14"
  }
 },
 "nbformat": 4,
 "nbformat_minor": 2
}
