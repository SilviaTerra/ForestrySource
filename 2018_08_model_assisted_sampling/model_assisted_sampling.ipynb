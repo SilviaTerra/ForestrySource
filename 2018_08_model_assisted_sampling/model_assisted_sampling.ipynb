{
 "cells": [
  {
   "cell_type": "markdown",
   "metadata": {},
   "source": [
    "# Model-Assisted (MA) Sampling"
   ]
  },
  {
   "cell_type": "markdown",
   "metadata": {},
   "source": [
    "This notebook is the supplement to the August 2018 \"Biometrics Bits\" column in the Forestry Source.\n",
    "\n",
    "You can run this Python code on your own computer by following the instructions in the README and then running each of the cells in the Jupyter Notebook.\n",
    "\n",
    "If you have any questions (or just want to geek out about biometrics in general!) contact us at https://silviaterra.com/bark/contact.html"
   ]
  },
  {
   "cell_type": "markdown",
   "metadata": {},
   "source": [
    "## Overview\n",
    "\n",
    "This notebook illustrates how model-assisted (MA) sampling works.  We'll work through an example that uses a perfectly rectangular stand that is exactly covered by the remotely-sensed (RS) geotiff located in data/rs-image.tif.  We've cruised 9 plots in this stand and measured the basal area (BA) for each.\n",
    "\n",
    "We will calculate the mean and standard error of the traditional cruise (no imagery), and then use MA inventory techniques to take advantage of the imagery we have.  We will quantify how much the MA techniques help us improve our standard error and how they adjust our estimate of the mean BA."
   ]
  },
  {
   "cell_type": "code",
   "execution_count": 1,
   "metadata": {},
   "outputs": [],
   "source": [
    "# input files are located in the \"data\" directory\n",
    "\n",
    "PLOTS_SHP = 'data/plots.shp'  # shapefile with plot locations and basal area\n",
    "RS_TIF = 'data/rs-image.tif'  # our remote sensing image"
   ]
  },
  {
   "cell_type": "code",
   "execution_count": 2,
   "metadata": {},
   "outputs": [
    {
     "data": {
      "text/html": [
       "<script>requirejs.config({paths: { 'plotly': ['https://cdn.plot.ly/plotly-latest.min']},});if(!window.Plotly) {{require(['plotly'],function(plotly) {window.Plotly=plotly;});}}</script>"
      ],
      "text/vnd.plotly.v1+html": [
       "<script>requirejs.config({paths: { 'plotly': ['https://cdn.plot.ly/plotly-latest.min']},});if(!window.Plotly) {{require(['plotly'],function(plotly) {window.Plotly=plotly;});}}</script>"
      ]
     },
     "metadata": {},
     "output_type": "display_data"
    }
   ],
   "source": [
    "# import all the libraries we need\n",
    "\n",
    "# plotly, including offline setup\n",
    "from plotly.offline import init_notebook_mode\n",
    "init_notebook_mode(connected=True)\n",
    "from plotly.offline import iplot\n",
    "import plotly.graph_objs as go\n",
    "\n",
    "# data analysis\n",
    "import numpy as np\n",
    "import scipy.stats as st\n",
    "\n",
    "# geospatial\n",
    "import fiona\n",
    "import rasterio\n",
    "import pandas as pd\n",
    "from shapely.geometry import shape"
   ]
  },
  {
   "cell_type": "markdown",
   "metadata": {},
   "source": [
    "## First, a traditional cruise workup\n",
    "\n",
    "We'll load the plot data from our shapefile and calculate the mean and standard error - the \"old fashioned\" way, without imagery."
   ]
  },
  {
   "cell_type": "code",
   "execution_count": 3,
   "metadata": {},
   "outputs": [
    {
     "name": "stdout",
     "output_type": "stream",
     "text": [
      "Read in 9 plots.\n"
     ]
    }
   ],
   "source": [
    "# load plot data (locations and BA)\n",
    "\n",
    "plots = []\n",
    "with fiona.open(PLOTS_SHP) as src:\n",
    "    for feat in src:\n",
    "        geom = shape(feat['geometry'])\n",
    "        plots.append({\n",
    "            'id': feat['properties']['id'],\n",
    "            'basal_area': feat['properties']['basal_area'],\n",
    "            'x': geom.x,\n",
    "            'y': geom.y\n",
    "        })\n",
    "\n",
    "plots_df = pd.DataFrame(plots)\n",
    "\n",
    "print 'Read in', len(plots_df), 'plots.'"
   ]
  },
  {
   "cell_type": "code",
   "execution_count": 4,
   "metadata": {},
   "outputs": [
    {
     "data": {
      "text/html": [
       "<div>\n",
       "<style scoped>\n",
       "    .dataframe tbody tr th:only-of-type {\n",
       "        vertical-align: middle;\n",
       "    }\n",
       "\n",
       "    .dataframe tbody tr th {\n",
       "        vertical-align: top;\n",
       "    }\n",
       "\n",
       "    .dataframe thead th {\n",
       "        text-align: right;\n",
       "    }\n",
       "</style>\n",
       "<table border=\"1\" class=\"dataframe\">\n",
       "  <thead>\n",
       "    <tr style=\"text-align: right;\">\n",
       "      <th></th>\n",
       "      <th>id</th>\n",
       "      <th>basal_area</th>\n",
       "    </tr>\n",
       "  </thead>\n",
       "  <tbody>\n",
       "    <tr>\n",
       "      <th>0</th>\n",
       "      <td>1</td>\n",
       "      <td>150</td>\n",
       "    </tr>\n",
       "    <tr>\n",
       "      <th>1</th>\n",
       "      <td>2</td>\n",
       "      <td>125</td>\n",
       "    </tr>\n",
       "    <tr>\n",
       "      <th>2</th>\n",
       "      <td>3</td>\n",
       "      <td>200</td>\n",
       "    </tr>\n",
       "    <tr>\n",
       "      <th>3</th>\n",
       "      <td>4</td>\n",
       "      <td>145</td>\n",
       "    </tr>\n",
       "    <tr>\n",
       "      <th>4</th>\n",
       "      <td>5</td>\n",
       "      <td>167</td>\n",
       "    </tr>\n",
       "    <tr>\n",
       "      <th>5</th>\n",
       "      <td>6</td>\n",
       "      <td>114</td>\n",
       "    </tr>\n",
       "    <tr>\n",
       "      <th>6</th>\n",
       "      <td>7</td>\n",
       "      <td>0</td>\n",
       "    </tr>\n",
       "    <tr>\n",
       "      <th>7</th>\n",
       "      <td>8</td>\n",
       "      <td>155</td>\n",
       "    </tr>\n",
       "    <tr>\n",
       "      <th>8</th>\n",
       "      <td>9</td>\n",
       "      <td>88</td>\n",
       "    </tr>\n",
       "  </tbody>\n",
       "</table>\n",
       "</div>"
      ],
      "text/plain": [
       "   id  basal_area\n",
       "0   1         150\n",
       "1   2         125\n",
       "2   3         200\n",
       "3   4         145\n",
       "4   5         167\n",
       "5   6         114\n",
       "6   7           0\n",
       "7   8         155\n",
       "8   9          88"
      ]
     },
     "execution_count": 4,
     "metadata": {},
     "output_type": "execute_result"
    }
   ],
   "source": [
    "# display the BA for each plot\n",
    "\n",
    "plots_df[['id', 'basal_area']]"
   ]
  },
  {
   "cell_type": "code",
   "execution_count": 5,
   "metadata": {},
   "outputs": [
    {
     "name": "stdout",
     "output_type": "stream",
     "text": [
      "Mean:\t\t 127.11\n",
      "Standard Error:\t 19.14\n"
     ]
    }
   ],
   "source": [
    "# using traditional statistics, calculate the mean BA and standard error\n",
    "\n",
    "trad_mean = np.mean(plots_df['basal_area'])\n",
    "trad_std_err = st.sem(plots_df['basal_area'])\n",
    "\n",
    "print 'Mean:\\t\\t %.2f' % trad_mean\n",
    "print 'Standard Error:\\t %.2f' % trad_std_err"
   ]
  },
  {
   "cell_type": "markdown",
   "metadata": {},
   "source": [
    "## Now, time to use MA sampling theory to add in some imagery\n",
    "\n",
    "The main steps here are:\n",
    " * Pair up our plots with the RS imagery\n",
    " * Build a model that relates the plot BA to the pixel value from the image\n",
    " * Apply the model to all pixels to estimate a BA for each pixel\n",
    " * Compute the model bias by calculating the average of the residuals\n",
    " * Adjust mean BA estimate by subtracting the model bias\n",
    " * Compute the standard error by calculating the variance of the residuals"
   ]
  },
  {
   "cell_type": "code",
   "execution_count": 6,
   "metadata": {},
   "outputs": [
    {
     "name": "stdout",
     "output_type": "stream",
     "text": [
      "Image dimensions: (39, 44)\n"
     ]
    }
   ],
   "source": [
    "# sample the RS image by plot locations\n",
    "\n",
    "with rasterio.open(RS_TIF) as src:\n",
    "    print 'Image dimensions:', src.shape\n",
    "    pixel_values = [\n",
    "        x[0] for x in  # have to parse out of returned array\n",
    "        list(src.sample(plots_df[['x', 'y']].values))\n",
    "    ]\n",
    "\n",
    "plots_df['pixel_value'] = pixel_values"
   ]
  },
  {
   "cell_type": "code",
   "execution_count": 7,
   "metadata": {},
   "outputs": [
    {
     "data": {
      "text/html": [
       "<div>\n",
       "<style scoped>\n",
       "    .dataframe tbody tr th:only-of-type {\n",
       "        vertical-align: middle;\n",
       "    }\n",
       "\n",
       "    .dataframe tbody tr th {\n",
       "        vertical-align: top;\n",
       "    }\n",
       "\n",
       "    .dataframe thead th {\n",
       "        text-align: right;\n",
       "    }\n",
       "</style>\n",
       "<table border=\"1\" class=\"dataframe\">\n",
       "  <thead>\n",
       "    <tr style=\"text-align: right;\">\n",
       "      <th></th>\n",
       "      <th>id</th>\n",
       "      <th>pixel_value</th>\n",
       "      <th>basal_area</th>\n",
       "    </tr>\n",
       "  </thead>\n",
       "  <tbody>\n",
       "    <tr>\n",
       "      <th>0</th>\n",
       "      <td>1</td>\n",
       "      <td>0.105824</td>\n",
       "      <td>150</td>\n",
       "    </tr>\n",
       "    <tr>\n",
       "      <th>1</th>\n",
       "      <td>2</td>\n",
       "      <td>0.110767</td>\n",
       "      <td>125</td>\n",
       "    </tr>\n",
       "    <tr>\n",
       "      <th>2</th>\n",
       "      <td>3</td>\n",
       "      <td>0.057252</td>\n",
       "      <td>200</td>\n",
       "    </tr>\n",
       "    <tr>\n",
       "      <th>3</th>\n",
       "      <td>4</td>\n",
       "      <td>0.114119</td>\n",
       "      <td>145</td>\n",
       "    </tr>\n",
       "    <tr>\n",
       "      <th>4</th>\n",
       "      <td>5</td>\n",
       "      <td>0.105423</td>\n",
       "      <td>167</td>\n",
       "    </tr>\n",
       "    <tr>\n",
       "      <th>5</th>\n",
       "      <td>6</td>\n",
       "      <td>0.107453</td>\n",
       "      <td>114</td>\n",
       "    </tr>\n",
       "    <tr>\n",
       "      <th>6</th>\n",
       "      <td>7</td>\n",
       "      <td>0.235615</td>\n",
       "      <td>0</td>\n",
       "    </tr>\n",
       "    <tr>\n",
       "      <th>7</th>\n",
       "      <td>8</td>\n",
       "      <td>0.089554</td>\n",
       "      <td>155</td>\n",
       "    </tr>\n",
       "    <tr>\n",
       "      <th>8</th>\n",
       "      <td>9</td>\n",
       "      <td>0.119050</td>\n",
       "      <td>88</td>\n",
       "    </tr>\n",
       "  </tbody>\n",
       "</table>\n",
       "</div>"
      ],
      "text/plain": [
       "   id  pixel_value  basal_area\n",
       "0   1     0.105824         150\n",
       "1   2     0.110767         125\n",
       "2   3     0.057252         200\n",
       "3   4     0.114119         145\n",
       "4   5     0.105423         167\n",
       "5   6     0.107453         114\n",
       "6   7     0.235615           0\n",
       "7   8     0.089554         155\n",
       "8   9     0.119050          88"
      ]
     },
     "execution_count": 7,
     "metadata": {},
     "output_type": "execute_result"
    }
   ],
   "source": [
    "# Show pixel value vs. BA table\n",
    "\n",
    "plots_df[['id', 'pixel_value', 'basal_area']]"
   ]
  },
  {
   "cell_type": "code",
   "execution_count": 8,
   "metadata": {},
   "outputs": [],
   "source": [
    "# define a model to predict BA from NDVI\n",
    "\n",
    "# using a simple linear regression for this example\n",
    "# in the real world, you'd use something more sophisticated\n",
    "slope, intercept, r_val, p_val, std_err = st.linregress(plots_df['pixel_value'], plots_df['basal_area'])\n",
    "\n",
    "def pixel_to_ba(pixel_value):\n",
    "    # NOTE: added the 1.1 here so that residuals wouldn't sum to zero\n",
    "    # Don't do this in real life!\n",
    "    return (slope * 1.1 * pixel_value) + intercept"
   ]
  },
  {
   "cell_type": "code",
   "execution_count": 9,
   "metadata": {},
   "outputs": [
    {
     "data": {
      "application/vnd.plotly.v1+json": {
       "data": [
        {
         "name": "Model",
         "type": "scatter",
         "uid": "a927f945-84c8-11e8-8b8a-600308935e22",
         "x": [
          0,
          0.004808461483643979,
          0.009616922967287958,
          0.014425384450931937,
          0.019233845934575916,
          0.024042307418219895,
          0.028850768901863874,
          0.03365923038550785,
          0.03846769186915183,
          0.04327615335279581,
          0.04808461483643979,
          0.05289307632008377,
          0.05770153780372775,
          0.06250999928737172,
          0.0673184607710157,
          0.07212692225465969,
          0.07693538373830366,
          0.08174384522194764,
          0.08655230670559162,
          0.09136076818923561,
          0.09616922967287958,
          0.10097769115652355,
          0.10578615264016754,
          0.11059461412381152,
          0.1154030756074555,
          0.12021153709109947,
          0.12501999857474344,
          0.12982846005838744,
          0.1346369215420314,
          0.13944538302567538,
          0.14425384450931938,
          0.14906230599296336,
          0.15387076747660733,
          0.1586792289602513,
          0.16348769044389527,
          0.16829615192753927,
          0.17310461341118324,
          0.17791307489482722,
          0.18272153637847122,
          0.1875299978621152,
          0.19233845934575916,
          0.19714692082940313,
          0.2019553823130471,
          0.2067638437966911,
          0.21157230528033508,
          0.21638076676397905,
          0.22118922824762305,
          0.22599768973126702,
          0.230806151214911,
          0.235614612698555
         ],
         "y": [
          256.34213764163474,
          250.4554885746064,
          244.56883950757802,
          238.68219044054968,
          232.79554137352133,
          226.90889230649296,
          221.02224323946461,
          215.13559417243624,
          209.2489451054079,
          203.36229603837955,
          197.47564697135118,
          191.58899790432284,
          185.7023488372945,
          179.81569977026615,
          173.92905070323778,
          168.04240163620943,
          162.15575256918106,
          156.26910350215275,
          150.38245443512437,
          144.495805368096,
          138.60915630106766,
          132.7225072340393,
          126.83585816701094,
          120.9492090999826,
          115.06256003295425,
          109.17591096592591,
          103.28926189889756,
          97.40261283186916,
          91.51596376484082,
          85.62931469781248,
          79.7426656307841,
          73.85601656375576,
          67.96936749672741,
          62.08271842969907,
          56.19606936267073,
          50.309420295642354,
          44.42277122861401,
          38.536122161585666,
          32.649473094557266,
          26.76282402752892,
          20.876174960500578,
          14.989525893472234,
          9.10287682644389,
          3.216227759415517,
          -2.6704213076128553,
          -8.557070374641171,
          -14.443719441669543,
          -20.330368508697916,
          -26.21701757572623,
          -32.103666642754604
         ]
        },
        {
         "marker": {
          "size": 10
         },
         "mode": "markers",
         "name": "Raw Data",
         "type": "scatter",
         "uid": "a929c80a-84c8-11e8-a7c6-600308935e22",
         "x": [
          0.10582394897937775,
          0.11076663434505463,
          0.057252079248428345,
          0.11411906778812408,
          0.10542328655719757,
          0.10745321959257126,
          0.235614612698555,
          0.08955370634794235,
          0.11905045807361603
         ],
         "y": [
          150,
          125,
          200,
          145,
          167,
          114,
          0,
          155,
          88
         ]
        }
       ],
       "layout": {
        "xaxis": {
         "title": "Pixel Value"
        },
        "yaxis": {
         "title": "Basal Area"
        }
       }
      },
      "text/html": [
       "<div id=\"a1337154-cce1-4bec-b25d-f81db2ea9be1\" style=\"height: 525px; width: 100%;\" class=\"plotly-graph-div\"></div><script type=\"text/javascript\">require([\"plotly\"], function(Plotly) { window.PLOTLYENV=window.PLOTLYENV || {};window.PLOTLYENV.BASE_URL=\"https://plot.ly\";Plotly.newPlot(\"a1337154-cce1-4bec-b25d-f81db2ea9be1\", [{\"y\": [256.34213764163474, 250.4554885746064, 244.56883950757802, 238.68219044054968, 232.79554137352133, 226.90889230649296, 221.02224323946461, 215.13559417243624, 209.2489451054079, 203.36229603837955, 197.47564697135118, 191.58899790432284, 185.7023488372945, 179.81569977026615, 173.92905070323778, 168.04240163620943, 162.15575256918106, 156.26910350215275, 150.38245443512437, 144.495805368096, 138.60915630106766, 132.7225072340393, 126.83585816701094, 120.9492090999826, 115.06256003295425, 109.17591096592591, 103.28926189889756, 97.40261283186916, 91.51596376484082, 85.62931469781248, 79.7426656307841, 73.85601656375576, 67.96936749672741, 62.08271842969907, 56.19606936267073, 50.309420295642354, 44.42277122861401, 38.536122161585666, 32.649473094557266, 26.76282402752892, 20.876174960500578, 14.989525893472234, 9.10287682644389, 3.216227759415517, -2.6704213076128553, -8.557070374641171, -14.443719441669543, -20.330368508697916, -26.21701757572623, -32.103666642754604], \"x\": [0.0, 0.004808461483643979, 0.009616922967287958, 0.014425384450931937, 0.019233845934575916, 0.024042307418219895, 0.028850768901863874, 0.03365923038550785, 0.03846769186915183, 0.04327615335279581, 0.04808461483643979, 0.05289307632008377, 0.05770153780372775, 0.06250999928737172, 0.0673184607710157, 0.07212692225465969, 0.07693538373830366, 0.08174384522194764, 0.08655230670559162, 0.09136076818923561, 0.09616922967287958, 0.10097769115652355, 0.10578615264016754, 0.11059461412381152, 0.1154030756074555, 0.12021153709109947, 0.12501999857474344, 0.12982846005838744, 0.1346369215420314, 0.13944538302567538, 0.14425384450931938, 0.14906230599296336, 0.15387076747660733, 0.1586792289602513, 0.16348769044389527, 0.16829615192753927, 0.17310461341118324, 0.17791307489482722, 0.18272153637847122, 0.1875299978621152, 0.19233845934575916, 0.19714692082940313, 0.2019553823130471, 0.2067638437966911, 0.21157230528033508, 0.21638076676397905, 0.22118922824762305, 0.22599768973126702, 0.230806151214911, 0.235614612698555], \"type\": \"scatter\", \"name\": \"Model\", \"uid\": \"a937e4f8-84c8-11e8-a068-600308935e22\"}, {\"name\": \"Raw Data\", \"marker\": {\"size\": 10}, \"mode\": \"markers\", \"y\": [150.0, 125.0, 200.0, 145.0, 167.0, 114.0, 0.0, 155.0, 88.0], \"x\": [0.10582394897937775, 0.11076663434505463, 0.057252079248428345, 0.11411906778812408, 0.10542328655719757, 0.10745321959257126, 0.235614612698555, 0.08955370634794235, 0.11905045807361603], \"type\": \"scatter\", \"uid\": \"a937e866-84c8-11e8-aa7c-600308935e22\"}], {\"xaxis\": {\"title\": \"Pixel Value\"}, \"yaxis\": {\"title\": \"Basal Area\"}}, {\"linkText\": \"Export to plot.ly\", \"showLink\": true})});</script>"
      ],
      "text/vnd.plotly.v1+html": [
       "<div id=\"a1337154-cce1-4bec-b25d-f81db2ea9be1\" style=\"height: 525px; width: 100%;\" class=\"plotly-graph-div\"></div><script type=\"text/javascript\">require([\"plotly\"], function(Plotly) { window.PLOTLYENV=window.PLOTLYENV || {};window.PLOTLYENV.BASE_URL=\"https://plot.ly\";Plotly.newPlot(\"a1337154-cce1-4bec-b25d-f81db2ea9be1\", [{\"y\": [256.34213764163474, 250.4554885746064, 244.56883950757802, 238.68219044054968, 232.79554137352133, 226.90889230649296, 221.02224323946461, 215.13559417243624, 209.2489451054079, 203.36229603837955, 197.47564697135118, 191.58899790432284, 185.7023488372945, 179.81569977026615, 173.92905070323778, 168.04240163620943, 162.15575256918106, 156.26910350215275, 150.38245443512437, 144.495805368096, 138.60915630106766, 132.7225072340393, 126.83585816701094, 120.9492090999826, 115.06256003295425, 109.17591096592591, 103.28926189889756, 97.40261283186916, 91.51596376484082, 85.62931469781248, 79.7426656307841, 73.85601656375576, 67.96936749672741, 62.08271842969907, 56.19606936267073, 50.309420295642354, 44.42277122861401, 38.536122161585666, 32.649473094557266, 26.76282402752892, 20.876174960500578, 14.989525893472234, 9.10287682644389, 3.216227759415517, -2.6704213076128553, -8.557070374641171, -14.443719441669543, -20.330368508697916, -26.21701757572623, -32.103666642754604], \"x\": [0.0, 0.004808461483643979, 0.009616922967287958, 0.014425384450931937, 0.019233845934575916, 0.024042307418219895, 0.028850768901863874, 0.03365923038550785, 0.03846769186915183, 0.04327615335279581, 0.04808461483643979, 0.05289307632008377, 0.05770153780372775, 0.06250999928737172, 0.0673184607710157, 0.07212692225465969, 0.07693538373830366, 0.08174384522194764, 0.08655230670559162, 0.09136076818923561, 0.09616922967287958, 0.10097769115652355, 0.10578615264016754, 0.11059461412381152, 0.1154030756074555, 0.12021153709109947, 0.12501999857474344, 0.12982846005838744, 0.1346369215420314, 0.13944538302567538, 0.14425384450931938, 0.14906230599296336, 0.15387076747660733, 0.1586792289602513, 0.16348769044389527, 0.16829615192753927, 0.17310461341118324, 0.17791307489482722, 0.18272153637847122, 0.1875299978621152, 0.19233845934575916, 0.19714692082940313, 0.2019553823130471, 0.2067638437966911, 0.21157230528033508, 0.21638076676397905, 0.22118922824762305, 0.22599768973126702, 0.230806151214911, 0.235614612698555], \"type\": \"scatter\", \"name\": \"Model\", \"uid\": \"a937e4f8-84c8-11e8-a068-600308935e22\"}, {\"name\": \"Raw Data\", \"marker\": {\"size\": 10}, \"mode\": \"markers\", \"y\": [150.0, 125.0, 200.0, 145.0, 167.0, 114.0, 0.0, 155.0, 88.0], \"x\": [0.10582394897937775, 0.11076663434505463, 0.057252079248428345, 0.11411906778812408, 0.10542328655719757, 0.10745321959257126, 0.235614612698555, 0.08955370634794235, 0.11905045807361603], \"type\": \"scatter\", \"uid\": \"a937e866-84c8-11e8-aa7c-600308935e22\"}], {\"xaxis\": {\"title\": \"Pixel Value\"}, \"yaxis\": {\"title\": \"Basal Area\"}}, {\"linkText\": \"Export to plot.ly\", \"showLink\": true})});</script>"
      ]
     },
     "metadata": {},
     "output_type": "display_data"
    }
   ],
   "source": [
    "# graph pixel values vs. BA\n",
    "\n",
    "# we're using the fantastic Plotly library\n",
    "# (the graphs only show up if you run this on your computer)\n",
    "raw_data = go.Scatter(\n",
    "    name='Raw Data',\n",
    "    x=plots_df['pixel_value'],\n",
    "    y=plots_df['basal_area'],\n",
    "    mode='markers',\n",
    "    marker={'size': 10}\n",
    ")\n",
    "\n",
    "ticks = np.linspace(0, max(plots_df['pixel_value']))\n",
    "model_trace = go.Scatter(\n",
    "    name='Model',\n",
    "    x=ticks,\n",
    "    y=map(pixel_to_ba, ticks)\n",
    ")\n",
    "\n",
    "data = [model_trace, raw_data]\n",
    "\n",
    "layout = go.Layout(\n",
    "    xaxis={'title': 'Pixel Value'},\n",
    "    yaxis={'title': 'Basal Area'}\n",
    ")\n",
    "\n",
    "figure = {\n",
    "    'data': data,\n",
    "    'layout': layout\n",
    "}\n",
    "\n",
    "iplot(figure)"
   ]
  },
  {
   "cell_type": "code",
   "execution_count": 10,
   "metadata": {},
   "outputs": [],
   "source": [
    "# calculate model residuals\n",
    "\n",
    "plots_df['predicted_ba'] = map(pixel_to_ba, plots_df['pixel_value'])\n",
    "plots_df['residual'] = plots_df['predicted_ba'] - plots_df['basal_area']"
   ]
  },
  {
   "cell_type": "code",
   "execution_count": 11,
   "metadata": {},
   "outputs": [
    {
     "data": {
      "text/html": [
       "<div>\n",
       "<style scoped>\n",
       "    .dataframe tbody tr th:only-of-type {\n",
       "        vertical-align: middle;\n",
       "    }\n",
       "\n",
       "    .dataframe tbody tr th {\n",
       "        vertical-align: top;\n",
       "    }\n",
       "\n",
       "    .dataframe thead th {\n",
       "        text-align: right;\n",
       "    }\n",
       "</style>\n",
       "<table border=\"1\" class=\"dataframe\">\n",
       "  <thead>\n",
       "    <tr style=\"text-align: right;\">\n",
       "      <th></th>\n",
       "      <th>id</th>\n",
       "      <th>basal_area</th>\n",
       "      <th>predicted_ba</th>\n",
       "      <th>residual</th>\n",
       "    </tr>\n",
       "  </thead>\n",
       "  <tbody>\n",
       "    <tr>\n",
       "      <th>0</th>\n",
       "      <td>1</td>\n",
       "      <td>150</td>\n",
       "      <td>126.789587</td>\n",
       "      <td>-23.210413</td>\n",
       "    </tr>\n",
       "    <tr>\n",
       "      <th>1</th>\n",
       "      <td>2</td>\n",
       "      <td>125</td>\n",
       "      <td>120.738617</td>\n",
       "      <td>-4.261383</td>\n",
       "    </tr>\n",
       "    <tr>\n",
       "      <th>2</th>\n",
       "      <td>3</td>\n",
       "      <td>200</td>\n",
       "      <td>186.252588</td>\n",
       "      <td>-13.747412</td>\n",
       "    </tr>\n",
       "    <tr>\n",
       "      <th>3</th>\n",
       "      <td>4</td>\n",
       "      <td>145</td>\n",
       "      <td>116.634477</td>\n",
       "      <td>-28.365523</td>\n",
       "    </tr>\n",
       "    <tr>\n",
       "      <th>4</th>\n",
       "      <td>5</td>\n",
       "      <td>167</td>\n",
       "      <td>127.280089</td>\n",
       "      <td>-39.719911</td>\n",
       "    </tr>\n",
       "    <tr>\n",
       "      <th>5</th>\n",
       "      <td>6</td>\n",
       "      <td>114</td>\n",
       "      <td>124.794990</td>\n",
       "      <td>10.794990</td>\n",
       "    </tr>\n",
       "    <tr>\n",
       "      <th>6</th>\n",
       "      <td>7</td>\n",
       "      <td>0</td>\n",
       "      <td>-32.103667</td>\n",
       "      <td>-32.103667</td>\n",
       "    </tr>\n",
       "    <tr>\n",
       "      <th>7</th>\n",
       "      <td>8</td>\n",
       "      <td>155</td>\n",
       "      <td>146.708060</td>\n",
       "      <td>-8.291940</td>\n",
       "    </tr>\n",
       "    <tr>\n",
       "      <th>8</th>\n",
       "      <td>9</td>\n",
       "      <td>88</td>\n",
       "      <td>110.597335</td>\n",
       "      <td>22.597335</td>\n",
       "    </tr>\n",
       "  </tbody>\n",
       "</table>\n",
       "</div>"
      ],
      "text/plain": [
       "   id  basal_area  predicted_ba   residual\n",
       "0   1         150    126.789587 -23.210413\n",
       "1   2         125    120.738617  -4.261383\n",
       "2   3         200    186.252588 -13.747412\n",
       "3   4         145    116.634477 -28.365523\n",
       "4   5         167    127.280089 -39.719911\n",
       "5   6         114    124.794990  10.794990\n",
       "6   7           0    -32.103667 -32.103667\n",
       "7   8         155    146.708060  -8.291940\n",
       "8   9          88    110.597335  22.597335"
      ]
     },
     "execution_count": 11,
     "metadata": {},
     "output_type": "execute_result"
    }
   ],
   "source": [
    "# show table of model residuals\n",
    "\n",
    "plots_df[['id', 'basal_area', 'predicted_ba', 'residual']]"
   ]
  },
  {
   "cell_type": "code",
   "execution_count": 12,
   "metadata": {},
   "outputs": [],
   "source": [
    "# predict BA for each pixel\n",
    "\n",
    "with rasterio.open(RS_TIF) as src:\n",
    "    pixel_vals = np.ndarray.flatten(src.read(1))\n",
    "    predicted_bas = map(pixel_to_ba, pixel_vals)"
   ]
  },
  {
   "cell_type": "code",
   "execution_count": null,
   "metadata": {},
   "outputs": [],
   "source": [
    "# write pixel BA out to a geotiff\n",
    "\n",
    "BA_TIF = 'data/predicted-ba.tif'\n",
    "\n",
    "with rasterio.open(RS_TIF) as src:\n",
    "    profile = src.profile\n",
    "    with rasterio.open(BA_TIF, 'w', **profile) as dst:\n",
    "        ba_2d = np.reshape(predicted_bas, src.shape)  # turn list into a 2-D matrix\n",
    "        ba_2d = ba_2d.astype(np.float32)  # avoid dtype error\n",
    "        dst.write(ba_2d, 1)"
   ]
  },
  {
   "cell_type": "code",
   "execution_count": 14,
   "metadata": {},
   "outputs": [
    {
     "name": "stdout",
     "output_type": "stream",
     "text": [
      "Raw mean pixel BA:\t 118.11\n",
      "Mean residual:\t\t -12.92\n",
      "Model-assisted mean:\t 131.03\n"
     ]
    }
   ],
   "source": [
    "# calculate model-assisted mean BA\n",
    "\n",
    "raw_mean_pix_ba = np.mean(predicted_bas)  # this is the naive mean\n",
    "mean_residual = np.mean(plots_df['residual'])  # this is the bias in our model\n",
    "ma_mean = raw_mean_pix_ba - mean_residual  # correct the naive mean by the model bias\n",
    "\n",
    "print 'Raw mean pixel BA:\\t %.2f' % raw_mean_pix_ba\n",
    "print 'Mean residual:\\t\\t %.2f' % mean_residual\n",
    "print 'Model-assisted mean:\\t %.2f' % ma_mean"
   ]
  },
  {
   "cell_type": "code",
   "execution_count": 15,
   "metadata": {},
   "outputs": [
    {
     "name": "stdout",
     "output_type": "stream",
     "text": [
      "Model-assisted variance: 46.55\n"
     ]
    }
   ],
   "source": [
    "# calculate variance in our model-assisted estimate of the mean\n",
    "\n",
    "# As Sarndal (1992) notes, the estimate variance equals the variance of the residuals\n",
    "\n",
    "n = len(plots_df)\n",
    "ma_var = (1.0 / (n * (n-1))) * sum((plots_df['residual'] - mean_residual)**2)\n",
    "print 'Model-assisted variance: %.2f' % ma_var"
   ]
  },
  {
   "cell_type": "code",
   "execution_count": 16,
   "metadata": {},
   "outputs": [
    {
     "name": "stdout",
     "output_type": "stream",
     "text": [
      "Model-assisted standard error: 2.27\n"
     ]
    }
   ],
   "source": [
    "# calculate standard error of model-assisted estimate\n",
    "\n",
    "ma_std_err = np.sqrt(ma_var) / np.sqrt(n)\n",
    "print 'Model-assisted standard error: %.2f' % ma_std_err"
   ]
  },
  {
   "cell_type": "markdown",
   "metadata": {},
   "source": [
    "## How did we do?\n",
    "\n",
    "Let's compare the standard errors that come out of the traditional process and our model-assisted workup.\n",
    "\n",
    "Note that the MA standard error is signficantly lower and that our estimate of the mean has been slightly adjusted compared to the traditional estimate.  This is the power of adding in auxiliary data (like RS imagery) into your inventory process."
   ]
  },
  {
   "cell_type": "code",
   "execution_count": 17,
   "metadata": {},
   "outputs": [
    {
     "data": {
      "text/html": [
       "<div>\n",
       "<style scoped>\n",
       "    .dataframe tbody tr th:only-of-type {\n",
       "        vertical-align: middle;\n",
       "    }\n",
       "\n",
       "    .dataframe tbody tr th {\n",
       "        vertical-align: top;\n",
       "    }\n",
       "\n",
       "    .dataframe thead th {\n",
       "        text-align: right;\n",
       "    }\n",
       "</style>\n",
       "<table border=\"1\" class=\"dataframe\">\n",
       "  <thead>\n",
       "    <tr style=\"text-align: right;\">\n",
       "      <th></th>\n",
       "      <th>type</th>\n",
       "      <th>mean</th>\n",
       "      <th>std_err</th>\n",
       "    </tr>\n",
       "  </thead>\n",
       "  <tbody>\n",
       "    <tr>\n",
       "      <th>0</th>\n",
       "      <td>Traditional</td>\n",
       "      <td>127.111111</td>\n",
       "      <td>19.144512</td>\n",
       "    </tr>\n",
       "    <tr>\n",
       "      <th>1</th>\n",
       "      <td>Model-Assisted</td>\n",
       "      <td>131.029093</td>\n",
       "      <td>2.274273</td>\n",
       "    </tr>\n",
       "  </tbody>\n",
       "</table>\n",
       "</div>"
      ],
      "text/plain": [
       "             type        mean    std_err\n",
       "0     Traditional  127.111111  19.144512\n",
       "1  Model-Assisted  131.029093   2.274273"
      ]
     },
     "execution_count": 17,
     "metadata": {},
     "output_type": "execute_result"
    }
   ],
   "source": [
    "# compare to traditional cruise\n",
    "\n",
    "comparison_df = pd.DataFrame([\n",
    "    {'type': 'Traditional', 'mean': trad_mean, 'std_err': trad_std_err},\n",
    "    {'type': 'Model-Assisted', 'mean': ma_mean, 'std_err': ma_std_err},\n",
    "])\n",
    "\n",
    "comparison_df[['type', 'mean', 'std_err']]"
   ]
  }
 ],
 "metadata": {
  "kernelspec": {
   "display_name": "Python 2",
   "language": "python",
   "name": "python2"
  },
  "language_info": {
   "codemirror_mode": {
    "name": "ipython",
    "version": 2
   },
   "file_extension": ".py",
   "mimetype": "text/x-python",
   "name": "python",
   "nbconvert_exporter": "python",
   "pygments_lexer": "ipython2",
   "version": "2.7.14"
  }
 },
 "nbformat": 4,
 "nbformat_minor": 2
}
